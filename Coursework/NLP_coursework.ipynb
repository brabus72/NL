{
  "nbformat": 4,
  "nbformat_minor": 0,
  "metadata": {
    "colab": {
      "name": "NLP_coursework.ipynb",
      "provenance": [],
      "collapsed_sections": []
    },
    "kernelspec": {
      "name": "python3",
      "display_name": "Python 3"
    }
  },
  "cells": [
    {
      "cell_type": "markdown",
      "metadata": {
        "id": "N-cXzqkC7y_x"
      },
      "source": [
        "Роман, добрый день, курсовая в процессе выполнения, я её выполню и сообщу вам. Прошу прощения за сроки.\n"
      ]
    },
    {
      "cell_type": "code",
      "metadata": {
        "id": "R2vMYvwD8NRN"
      },
      "source": [
        ""
      ],
      "execution_count": null,
      "outputs": []
    }
  ]
}