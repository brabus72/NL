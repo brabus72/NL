{
  "nbformat": 4,
  "nbformat_minor": 0,
  "metadata": {
    "kernelspec": {
      "display_name": "Python 3",
      "language": "python",
      "name": "python3"
    },
    "language_info": {
      "codemirror_mode": {
        "name": "ipython",
        "version": 3
      },
      "file_extension": ".py",
      "mimetype": "text/x-python",
      "name": "python",
      "nbconvert_exporter": "python",
      "pygments_lexer": "ipython3",
      "version": "3.7.7"
    },
    "colab": {
      "name": "NL_hw5.ipynb",
      "provenance": [],
      "collapsed_sections": [],
      "toc_visible": true
    }
  },
  "cells": [
    {
      "cell_type": "markdown",
      "metadata": {
        "id": "ERDh35oyzMa-"
      },
      "source": [
        "## Домашняя работа №5"
      ]
    },
    {
      "cell_type": "markdown",
      "metadata": {
        "id": "ZeajALVhzMbA"
      },
      "source": [
        "Задание из 2-х частей.\n",
        "Берем отызывы за лето (из архива с материалами или предыдущего занятия)\n",
        "1. Учим conv сеть для классификации - выбить auc выше 0.95\n",
        "2. Предобучаем word2vec и его эмбединга инициализируем сетку, как влияет на качество?"
      ]
    },
    {
      "cell_type": "code",
      "metadata": {
        "id": "HddzAQCezMbB"
      },
      "source": [
        "import numpy as np\n",
        "import pandas as pd\n",
        "from tqdm import tqdm\n",
        "import matplotlib.pyplot as plt\n",
        "\n",
        "%matplotlib inline\n",
        "\n",
        "import warnings \n",
        "warnings.filterwarnings(\"ignore\", category=Warning)"
      ],
      "execution_count": 1,
      "outputs": []
    },
    {
      "cell_type": "code",
      "metadata": {
        "id": "71b0EhLtzMbI"
      },
      "source": [
        "#!conda install xlrd"
      ],
      "execution_count": 2,
      "outputs": []
    },
    {
      "cell_type": "code",
      "metadata": {
        "id": "IvxHJASOzMbO",
        "outputId": "6b01d933-8b18-408f-a60c-0d0f8891e437",
        "colab": {
          "base_uri": "https://localhost:8080/",
          "height": 204
        }
      },
      "source": [
        "data = pd.read_excel(\"отзывы за лето.xls\")\n",
        "data.head()"
      ],
      "execution_count": 3,
      "outputs": [
        {
          "output_type": "execute_result",
          "data": {
            "text/html": [
              "<div>\n",
              "<style scoped>\n",
              "    .dataframe tbody tr th:only-of-type {\n",
              "        vertical-align: middle;\n",
              "    }\n",
              "\n",
              "    .dataframe tbody tr th {\n",
              "        vertical-align: top;\n",
              "    }\n",
              "\n",
              "    .dataframe thead th {\n",
              "        text-align: right;\n",
              "    }\n",
              "</style>\n",
              "<table border=\"1\" class=\"dataframe\">\n",
              "  <thead>\n",
              "    <tr style=\"text-align: right;\">\n",
              "      <th></th>\n",
              "      <th>Rating</th>\n",
              "      <th>Content</th>\n",
              "      <th>Date</th>\n",
              "    </tr>\n",
              "  </thead>\n",
              "  <tbody>\n",
              "    <tr>\n",
              "      <th>0</th>\n",
              "      <td>5</td>\n",
              "      <td>It just works!</td>\n",
              "      <td>2017-08-14</td>\n",
              "    </tr>\n",
              "    <tr>\n",
              "      <th>1</th>\n",
              "      <td>4</td>\n",
              "      <td>В целом удобноное приложение...из минусов хотя...</td>\n",
              "      <td>2017-08-14</td>\n",
              "    </tr>\n",
              "    <tr>\n",
              "      <th>2</th>\n",
              "      <td>5</td>\n",
              "      <td>Отлично все</td>\n",
              "      <td>2017-08-14</td>\n",
              "    </tr>\n",
              "    <tr>\n",
              "      <th>3</th>\n",
              "      <td>5</td>\n",
              "      <td>Стал зависать на 1% работы антивируса. Дальше ...</td>\n",
              "      <td>2017-08-14</td>\n",
              "    </tr>\n",
              "    <tr>\n",
              "      <th>4</th>\n",
              "      <td>5</td>\n",
              "      <td>Очень удобно, работает быстро.</td>\n",
              "      <td>2017-08-14</td>\n",
              "    </tr>\n",
              "  </tbody>\n",
              "</table>\n",
              "</div>"
            ],
            "text/plain": [
              "   Rating                                            Content        Date\n",
              "0       5                                     It just works!  2017-08-14\n",
              "1       4  В целом удобноное приложение...из минусов хотя...  2017-08-14\n",
              "2       5                                        Отлично все  2017-08-14\n",
              "3       5  Стал зависать на 1% работы антивируса. Дальше ...  2017-08-14\n",
              "4       5                     Очень удобно, работает быстро.  2017-08-14"
            ]
          },
          "metadata": {
            "tags": []
          },
          "execution_count": 3
        }
      ]
    },
    {
      "cell_type": "code",
      "metadata": {
        "id": "MXC4Bj6MzMbU",
        "outputId": "0d9b5e3b-51b6-419b-b0b2-7c6cea6f37a9",
        "colab": {
          "base_uri": "https://localhost:8080/",
          "height": 119
        }
      },
      "source": [
        "data['Rating'].value_counts()"
      ],
      "execution_count": 4,
      "outputs": [
        {
          "output_type": "execute_result",
          "data": {
            "text/plain": [
              "5    14586\n",
              "1     2276\n",
              "4     2138\n",
              "3      911\n",
              "2      748\n",
              "Name: Rating, dtype: int64"
            ]
          },
          "metadata": {
            "tags": []
          },
          "execution_count": 4
        }
      ]
    },
    {
      "cell_type": "code",
      "metadata": {
        "id": "p4TrpTp-zMbZ"
      },
      "source": [
        "data = data[data['Rating'] != 3]\n",
        "data['target'] = data['Rating'] > 3\n",
        "data['target'] = data['target'].astype(int)"
      ],
      "execution_count": 5,
      "outputs": []
    },
    {
      "cell_type": "code",
      "metadata": {
        "id": "-HVGPNAKzMbe",
        "outputId": "e581b49b-3086-4efe-a411-b9ffad767b2b",
        "colab": {
          "base_uri": "https://localhost:8080/",
          "height": 68
        }
      },
      "source": [
        "data['target'].value_counts()"
      ],
      "execution_count": 6,
      "outputs": [
        {
          "output_type": "execute_result",
          "data": {
            "text/plain": [
              "1    16724\n",
              "0     3024\n",
              "Name: target, dtype: int64"
            ]
          },
          "metadata": {
            "tags": []
          },
          "execution_count": 6
        }
      ]
    },
    {
      "cell_type": "markdown",
      "metadata": {
        "id": "GDNX8-MDzMbj"
      },
      "source": [
        "Положительные отзывы:"
      ]
    },
    {
      "cell_type": "code",
      "metadata": {
        "id": "UYpaL0sbzMbl",
        "outputId": "78ef415c-7feb-4da1-8c15-80892804e7e5",
        "colab": {
          "base_uri": "https://localhost:8080/",
          "height": 374
        }
      },
      "source": [
        "data.loc[data['target'] == 1, 'Content'].sample(20, random_state=42)"
      ],
      "execution_count": 7,
      "outputs": [
        {
          "output_type": "execute_result",
          "data": {
            "text/plain": [
              "19216                                  Спасибо, все удобно\n",
              "12380                                                   Ok\n",
              "953                                                Отлично\n",
              "15329                                     Удобное спасибо!\n",
              "12421                                  Отличное приложение\n",
              "17805                                                   Ок\n",
              "8245                                                  норм\n",
              "7299                                               отлично\n",
              "5504                              Очень удобное приложение\n",
              "19928                                              Отлично\n",
              "12680    Заходить в приложение стало в 2 раза дольше,фу...\n",
              "7209                Не могу скачать приложение, ошибка 963\n",
              "12721                 Всё отлично!приложение очень радует!\n",
              "10057                                Удобно.Быстро.Надежно\n",
              "3191                                Очень просто и быстро.\n",
              "5886     Мне понравилось очень удобно сидиш дома и все ...\n",
              "10309    Перестало заходить, причем именно дома по wi f...\n",
              "8383                                    супер!очень удобно\n",
              "8886     Отличное приложение. Весь нужный для обывателя...\n",
              "1022                                           Дайте денег\n",
              "Name: Content, dtype: object"
            ]
          },
          "metadata": {
            "tags": []
          },
          "execution_count": 7
        }
      ]
    },
    {
      "cell_type": "markdown",
      "metadata": {
        "id": "KU44tITUzMbt"
      },
      "source": [
        "Отрицательные отзывы:"
      ]
    },
    {
      "cell_type": "code",
      "metadata": {
        "id": "vbXYcdhazMbv",
        "outputId": "e26a9771-3678-4c90-b8e4-65a5b3acdb06",
        "colab": {
          "base_uri": "https://localhost:8080/",
          "height": 374
        }
      },
      "source": [
        "data.loc[data['target'] == 0, 'Content'].sample(20, random_state=42)"
      ],
      "execution_count": 8,
      "outputs": [
        {
          "output_type": "execute_result",
          "data": {
            "text/plain": [
              "20636                     Дайте доступ к роот правам, с*ки\n",
              "2226     По три раза просит пароль задолбал исправьте п...\n",
              "13980    Ну задолбало уже по 2-3 раза вводить пароль дл...\n",
              "13173    Если честно - дерьмо Ваше приложение! Исправьт...\n",
              "8452                             Не приходит СМС с паролем\n",
              "10162    В шаблонах чехарда появляются записи из Контак...\n",
              "506      Куда подевалось вход по отпечатку? При запуске...\n",
              "17032    Все было хорошо недавно перестало работать из....\n",
              "11215    Не устанавливается приложение!Раньше все было ...\n",
              "3582     Установил приложение. Зарегистрироваться так и...\n",
              "20173    У меня тоже телефон meizu pro 6. И тоже пишет ...\n",
              "9355     Почему у сбера переводы длятся вечность? Польз...\n",
              "8580     Здравствуйте. После последнего обновления стал...\n",
              "1742     При регистрации не могу ввести разовый пароль ...\n",
              "456      Разрабы тупые рукожопы! Наковыряли в обновлени...\n",
              "15358    Не могу войти на свой счет и зарегать новый не...\n",
              "20115    Очень медленное приложение в начале загрузки, ...\n",
              "9829                       Не приходит смс для регистрации\n",
              "14461    Проблемы с подключением. Долго захожу в личный...\n",
              "1360              При регистрации не приходит смс, почему?\n",
              "Name: Content, dtype: object"
            ]
          },
          "metadata": {
            "tags": []
          },
          "execution_count": 8
        }
      ]
    },
    {
      "cell_type": "markdown",
      "metadata": {
        "id": "bbUFOUgFzMb0"
      },
      "source": [
        "### Обработка текстов"
      ]
    },
    {
      "cell_type": "code",
      "metadata": {
        "id": "sZVviQ0az00x"
      },
      "source": [
        "#!pip install pymorphy2"
      ],
      "execution_count": 9,
      "outputs": []
    },
    {
      "cell_type": "code",
      "metadata": {
        "id": "GK0ukkKNzMb0"
      },
      "source": [
        "import nltk\n",
        "from nltk.tokenize import word_tokenize\n",
        "\n",
        "from pymorphy2 import MorphAnalyzer"
      ],
      "execution_count": 10,
      "outputs": []
    },
    {
      "cell_type": "code",
      "metadata": {
        "id": "FWDdvXbv0Gdk"
      },
      "source": [
        "#nltk.download('punkt')"
      ],
      "execution_count": 11,
      "outputs": []
    },
    {
      "cell_type": "code",
      "metadata": {
        "id": "c_omWe1VzMb5"
      },
      "source": [
        "punctuation = r'[,.]'\n",
        "morpher = MorphAnalyzer()\n",
        "\n",
        "stop = {'без', 'безо', 'близ', 'в', 'во', 'вместо', 'вне',\n",
        "        'для', 'до', 'за', 'из', 'изо', 'из-за', 'из-под', \n",
        "        'к', 'ко', 'кроме', 'между', 'меж', 'на', 'над', 'надо',\n",
        "        'о', 'об', 'обо', 'от', 'ото', 'перед', 'передо', 'пред', 'предо',\n",
        "        'пo', 'под', 'подо', 'при', 'про', 'ради', 'с', 'со',\n",
        "        'сквозь', 'среди', 'у', 'через', 'чрез'}"
      ],
      "execution_count": 12,
      "outputs": []
    },
    {
      "cell_type": "code",
      "metadata": {
        "id": "Zrxx-t0HzMcB"
      },
      "source": [
        "def normalize_text(text_list):\n",
        "    return [morpher.parse(word)[0].normal_form \\\n",
        "            for word in text_list if word not in stop]\n",
        "\n",
        "def preprocess_text(text):    \n",
        "    text_list = nltk.word_tokenize(str(text))\n",
        "    text_list = normalize_text(text_list)\n",
        "    return text_list"
      ],
      "execution_count": 13,
      "outputs": []
    },
    {
      "cell_type": "code",
      "metadata": {
        "id": "Qz8JgL8CzMcF",
        "outputId": "1295b9a1-8c79-4e86-a2ca-58cff396b3a5",
        "colab": {
          "base_uri": "https://localhost:8080/",
          "height": 34
        }
      },
      "source": [
        "data['Text'] = data['Content'].str.lower()\n",
        "data['Text'] = data['Text'].str.replace(r'[.,]', ' ')\n",
        "data['Text'] = [preprocess_text(text_list) for text_list in tqdm(data['Text'])]"
      ],
      "execution_count": 14,
      "outputs": [
        {
          "output_type": "stream",
          "text": [
            "100%|██████████| 19748/19748 [00:33<00:00, 592.03it/s]\n"
          ],
          "name": "stderr"
        }
      ]
    },
    {
      "cell_type": "code",
      "metadata": {
        "id": "tg_3WOXKzMcJ",
        "outputId": "c953e672-d808-4f97-cbd1-188e809a539e",
        "colab": {
          "base_uri": "https://localhost:8080/",
          "height": 359
        }
      },
      "source": [
        "data['Text'] = data['Text'].str.join(' ')\n",
        "data.head(10)"
      ],
      "execution_count": 15,
      "outputs": [
        {
          "output_type": "execute_result",
          "data": {
            "text/html": [
              "<div>\n",
              "<style scoped>\n",
              "    .dataframe tbody tr th:only-of-type {\n",
              "        vertical-align: middle;\n",
              "    }\n",
              "\n",
              "    .dataframe tbody tr th {\n",
              "        vertical-align: top;\n",
              "    }\n",
              "\n",
              "    .dataframe thead th {\n",
              "        text-align: right;\n",
              "    }\n",
              "</style>\n",
              "<table border=\"1\" class=\"dataframe\">\n",
              "  <thead>\n",
              "    <tr style=\"text-align: right;\">\n",
              "      <th></th>\n",
              "      <th>Rating</th>\n",
              "      <th>Content</th>\n",
              "      <th>Date</th>\n",
              "      <th>target</th>\n",
              "      <th>Text</th>\n",
              "    </tr>\n",
              "  </thead>\n",
              "  <tbody>\n",
              "    <tr>\n",
              "      <th>0</th>\n",
              "      <td>5</td>\n",
              "      <td>It just works!</td>\n",
              "      <td>2017-08-14</td>\n",
              "      <td>1</td>\n",
              "      <td>it just works !</td>\n",
              "    </tr>\n",
              "    <tr>\n",
              "      <th>1</th>\n",
              "      <td>4</td>\n",
              "      <td>В целом удобноное приложение...из минусов хотя...</td>\n",
              "      <td>2017-08-14</td>\n",
              "      <td>1</td>\n",
              "      <td>целое удобноной приложение минус хотеть слишко...</td>\n",
              "    </tr>\n",
              "    <tr>\n",
              "      <th>2</th>\n",
              "      <td>5</td>\n",
              "      <td>Отлично все</td>\n",
              "      <td>2017-08-14</td>\n",
              "      <td>1</td>\n",
              "      <td>отлично всё</td>\n",
              "    </tr>\n",
              "    <tr>\n",
              "      <th>3</th>\n",
              "      <td>5</td>\n",
              "      <td>Стал зависать на 1% работы антивируса. Дальше ...</td>\n",
              "      <td>2017-08-14</td>\n",
              "      <td>1</td>\n",
              "      <td>стать зависать 1 % работа антивирус далёкий ни...</td>\n",
              "    </tr>\n",
              "    <tr>\n",
              "      <th>4</th>\n",
              "      <td>5</td>\n",
              "      <td>Очень удобно, работает быстро.</td>\n",
              "      <td>2017-08-14</td>\n",
              "      <td>1</td>\n",
              "      <td>очень удобно работать быстро</td>\n",
              "    </tr>\n",
              "    <tr>\n",
              "      <th>5</th>\n",
              "      <td>5</td>\n",
              "      <td>Всё удобно норм 👍👍👍</td>\n",
              "      <td>2017-08-14</td>\n",
              "      <td>1</td>\n",
              "      <td>всё удобно норма 👍👍👍</td>\n",
              "    </tr>\n",
              "    <tr>\n",
              "      <th>6</th>\n",
              "      <td>5</td>\n",
              "      <td>Очень удобное приложение.</td>\n",
              "      <td>2017-08-14</td>\n",
              "      <td>1</td>\n",
              "      <td>очень удобный приложение</td>\n",
              "    </tr>\n",
              "    <tr>\n",
              "      <th>7</th>\n",
              "      <td>5</td>\n",
              "      <td>Все устраивает</td>\n",
              "      <td>2017-08-14</td>\n",
              "      <td>1</td>\n",
              "      <td>всё устраивать</td>\n",
              "    </tr>\n",
              "    <tr>\n",
              "      <th>8</th>\n",
              "      <td>5</td>\n",
              "      <td>У меня работает все четко. В отличии от банком...</td>\n",
              "      <td>2017-08-14</td>\n",
              "      <td>1</td>\n",
              "      <td>я работать всё чётко отличие банкомат который ...</td>\n",
              "    </tr>\n",
              "    <tr>\n",
              "      <th>9</th>\n",
              "      <td>5</td>\n",
              "      <td>Очень все хорошо👍</td>\n",
              "      <td>2017-08-14</td>\n",
              "      <td>1</td>\n",
              "      <td>очень всё хорошо👍</td>\n",
              "    </tr>\n",
              "  </tbody>\n",
              "</table>\n",
              "</div>"
            ],
            "text/plain": [
              "   Rating  ...                                               Text\n",
              "0       5  ...                                    it just works !\n",
              "1       4  ...  целое удобноной приложение минус хотеть слишко...\n",
              "2       5  ...                                        отлично всё\n",
              "3       5  ...  стать зависать 1 % работа антивирус далёкий ни...\n",
              "4       5  ...                       очень удобно работать быстро\n",
              "5       5  ...                               всё удобно норма 👍👍👍\n",
              "6       5  ...                           очень удобный приложение\n",
              "7       5  ...                                     всё устраивать\n",
              "8       5  ...  я работать всё чётко отличие банкомат который ...\n",
              "9       5  ...                                  очень всё хорошо👍\n",
              "\n",
              "[10 rows x 5 columns]"
            ]
          },
          "metadata": {
            "tags": []
          },
          "execution_count": 15
        }
      ]
    },
    {
      "cell_type": "code",
      "metadata": {
        "id": "PWGaaWYjzMcN"
      },
      "source": [
        "from sklearn.model_selection import train_test_split"
      ],
      "execution_count": 16,
      "outputs": []
    },
    {
      "cell_type": "code",
      "metadata": {
        "id": "jaTJKl7VzMcS"
      },
      "source": [
        "X = data['Text']\n",
        "y = data['target']"
      ],
      "execution_count": 17,
      "outputs": []
    },
    {
      "cell_type": "code",
      "metadata": {
        "id": "se9oZRenzMcV"
      },
      "source": [
        "X_train, X_test, y_train, y_test = train_test_split(\n",
        "    X, y,\n",
        "    test_size=0.25,\n",
        "    random_state=42,\n",
        "    stratify=y\n",
        ")"
      ],
      "execution_count": 18,
      "outputs": []
    },
    {
      "cell_type": "code",
      "metadata": {
        "id": "cay_aQIUzMcZ"
      },
      "source": [
        "max_words = 5000\n",
        "emb_len = 128\n",
        "max_len = 40"
      ],
      "execution_count": 19,
      "outputs": []
    },
    {
      "cell_type": "code",
      "metadata": {
        "id": "DeOxyQVXzMcf"
      },
      "source": [
        "train_corpus = ' '.join(X_train)\n",
        "tokens = word_tokenize(train_corpus)"
      ],
      "execution_count": 20,
      "outputs": []
    },
    {
      "cell_type": "code",
      "metadata": {
        "id": "6aX7r0N-zMci"
      },
      "source": [
        "tokens_filtered = [word for word in tokens if word.isalnum()]"
      ],
      "execution_count": 21,
      "outputs": []
    },
    {
      "cell_type": "code",
      "metadata": {
        "id": "TUoFRZKmzMcm"
      },
      "source": [
        "dist = nltk.probability.FreqDist(tokens_filtered)\n",
        "tokens_filtered_top = [pair[0] for pair in dist.most_common(max_words-1)]"
      ],
      "execution_count": 22,
      "outputs": []
    },
    {
      "cell_type": "code",
      "metadata": {
        "id": "dCu5_0ZDzMcr",
        "outputId": "46c09921-219c-4bcd-9d05-06063b5c1d0f",
        "colab": {
          "base_uri": "https://localhost:8080/",
          "height": 187
        }
      },
      "source": [
        "tokens_filtered_top[:10]"
      ],
      "execution_count": 23,
      "outputs": [
        {
          "output_type": "execute_result",
          "data": {
            "text/plain": [
              "['приложение',\n",
              " 'всё',\n",
              " 'не',\n",
              " 'и',\n",
              " 'очень',\n",
              " 'удобно',\n",
              " 'я',\n",
              " 'работать',\n",
              " 'удобный',\n",
              " 'что']"
            ]
          },
          "metadata": {
            "tags": []
          },
          "execution_count": 23
        }
      ]
    },
    {
      "cell_type": "code",
      "metadata": {
        "id": "XG1wt96-zMcu"
      },
      "source": [
        "vocabulary = {v: k for k, v in dict(enumerate(tokens_filtered_top, 1)).items()}"
      ],
      "execution_count": 24,
      "outputs": []
    },
    {
      "cell_type": "code",
      "metadata": {
        "id": "puUS2I2szMcy"
      },
      "source": [
        "def text_to_sequence(text, maxlen):\n",
        "    result = []\n",
        "    tokens = word_tokenize(text.lower())\n",
        "    tokens_filtered = [word for word in tokens if word.isalnum()]\n",
        "    for word in tokens_filtered:\n",
        "        if word in vocabulary:\n",
        "            result.append(vocabulary[word])\n",
        "    padding = [0]*(maxlen-len(result))\n",
        "    return padding + result[-maxlen:]"
      ],
      "execution_count": 25,
      "outputs": []
    },
    {
      "cell_type": "code",
      "metadata": {
        "id": "0KngJ5ZgzMc3"
      },
      "source": [
        "X_train_sequenced = np.asarray([text_to_sequence(text, max_len) for text in X_train], dtype=np.int32)\n",
        "X_test_sequenced = np.asarray([text_to_sequence(text, max_len) for text in X_test], dtype=np.int32)"
      ],
      "execution_count": 26,
      "outputs": []
    },
    {
      "cell_type": "code",
      "metadata": {
        "id": "aeA_-CKZzMc7",
        "outputId": "62648139-ff1e-4660-f440-cd23c42b02be",
        "colab": {
          "base_uri": "https://localhost:8080/",
          "height": 34
        }
      },
      "source": [
        "X_train_sequenced.shape"
      ],
      "execution_count": 27,
      "outputs": [
        {
          "output_type": "execute_result",
          "data": {
            "text/plain": [
              "(14811, 40)"
            ]
          },
          "metadata": {
            "tags": []
          },
          "execution_count": 27
        }
      ]
    },
    {
      "cell_type": "code",
      "metadata": {
        "id": "SSVPN1m7zMdA",
        "outputId": "a5ce074d-4a61-45e1-8969-8801a406476f",
        "colab": {
          "base_uri": "https://localhost:8080/",
          "height": 68
        }
      },
      "source": [
        "X_train_sequenced[1]"
      ],
      "execution_count": 28,
      "outputs": [
        {
          "output_type": "execute_result",
          "data": {
            "text/plain": [
              "array([ 0,  0,  0,  0,  0,  0,  0,  0,  0,  0,  0,  0,  0,  0,  0,  0,  0,\n",
              "        0,  0,  0,  0,  0,  0,  0,  0,  0,  0,  0,  0,  0,  0,  0,  0,  0,\n",
              "        0,  0,  0, 13,  8, 11], dtype=int32)"
            ]
          },
          "metadata": {
            "tags": []
          },
          "execution_count": 28
        }
      ]
    },
    {
      "cell_type": "markdown",
      "metadata": {
        "id": "zi9ctXDhzMdE"
      },
      "source": [
        "### Обучение CNN"
      ]
    },
    {
      "cell_type": "code",
      "metadata": {
        "id": "UmcsFV4UzMdF"
      },
      "source": [
        "import keras\n",
        "from keras.models import Sequential, Model\n",
        "from keras.layers import Dense, Dropout, Activation, Embedding, Conv1D, GlobalMaxPool1D"
      ],
      "execution_count": 29,
      "outputs": []
    },
    {
      "cell_type": "code",
      "metadata": {
        "id": "pyph_a7TzMdI"
      },
      "source": [
        "model = Sequential()\n",
        "model.add(Embedding(input_dim=max_words, output_dim=emb_len, input_length=max_len))\n",
        "model.add(Conv1D(emb_len, 3))\n",
        "model.add(Activation(\"relu\"))\n",
        "model.add(GlobalMaxPool1D())\n",
        "model.add(Dense(10))\n",
        "model.add(Activation(\"relu\"))\n",
        "model.add(Dropout(0.5))\n",
        "model.add(Dense(1))\n",
        "model.add(Activation('sigmoid'))\n",
        "\n",
        "model.compile(loss='binary_crossentropy',\n",
        "              optimizer='adam',\n",
        "              metrics=['acc'])"
      ],
      "execution_count": 30,
      "outputs": []
    },
    {
      "cell_type": "code",
      "metadata": {
        "id": "11gryCKczMdN",
        "outputId": "4ba23376-a0ed-4a1a-939b-eeee3b934e58",
        "colab": {
          "base_uri": "https://localhost:8080/",
          "height": 357
        }
      },
      "source": [
        "history1 = model.fit(X_train_sequenced, y_train,\n",
        "                     batch_size=10,\n",
        "                     epochs=10,\n",
        "                     verbose=1,\n",
        "                     validation_split=0.15)"
      ],
      "execution_count": 31,
      "outputs": [
        {
          "output_type": "stream",
          "text": [
            "Epoch 1/10\n",
            "1259/1259 [==============================] - 16s 13ms/step - loss: 0.2333 - acc: 0.9047 - val_loss: 0.1765 - val_acc: 0.9248\n",
            "Epoch 2/10\n",
            "1259/1259 [==============================] - 16s 13ms/step - loss: 0.1578 - acc: 0.9382 - val_loss: 0.1699 - val_acc: 0.9307\n",
            "Epoch 3/10\n",
            "1259/1259 [==============================] - 16s 12ms/step - loss: 0.1236 - acc: 0.9546 - val_loss: 0.1731 - val_acc: 0.9334\n",
            "Epoch 4/10\n",
            "1259/1259 [==============================] - 15s 12ms/step - loss: 0.0917 - acc: 0.9692 - val_loss: 0.2474 - val_acc: 0.9239\n",
            "Epoch 5/10\n",
            "1259/1259 [==============================] - 16s 12ms/step - loss: 0.0702 - acc: 0.9749 - val_loss: 0.2587 - val_acc: 0.9235\n",
            "Epoch 6/10\n",
            "1259/1259 [==============================] - 16s 13ms/step - loss: 0.0555 - acc: 0.9817 - val_loss: 0.2936 - val_acc: 0.9194\n",
            "Epoch 7/10\n",
            "1259/1259 [==============================] - 16s 13ms/step - loss: 0.0494 - acc: 0.9813 - val_loss: 0.3714 - val_acc: 0.9271\n",
            "Epoch 8/10\n",
            "1259/1259 [==============================] - 16s 12ms/step - loss: 0.0454 - acc: 0.9843 - val_loss: 0.3617 - val_acc: 0.9289\n",
            "Epoch 9/10\n",
            "1259/1259 [==============================] - 16s 12ms/step - loss: 0.0384 - acc: 0.9871 - val_loss: 0.4843 - val_acc: 0.9320\n",
            "Epoch 10/10\n",
            "1259/1259 [==============================] - 15s 12ms/step - loss: 0.0350 - acc: 0.9902 - val_loss: 0.5982 - val_acc: 0.9244\n"
          ],
          "name": "stdout"
        }
      ]
    },
    {
      "cell_type": "code",
      "metadata": {
        "id": "f5INVRVwzMdS",
        "outputId": "ef1aaece-1628-438f-d5da-093c0788d299",
        "colab": {
          "base_uri": "https://localhost:8080/",
          "height": 34
        }
      },
      "source": [
        "loss, acc = model.evaluate(X_test_sequenced, y_test, batch_size=10, verbose=1)"
      ],
      "execution_count": 32,
      "outputs": [
        {
          "output_type": "stream",
          "text": [
            "494/494 [==============================] - 1s 2ms/step - loss: 0.6187 - acc: 0.9182\n"
          ],
          "name": "stdout"
        }
      ]
    },
    {
      "cell_type": "markdown",
      "metadata": {
        "id": "JrIehhR7zMdV"
      },
      "source": [
        "### Получение эмбеддингов Word2Vec"
      ]
    },
    {
      "cell_type": "code",
      "metadata": {
        "id": "Yut1BW00zMdV"
      },
      "source": [
        "from gensim.models import Word2Vec"
      ],
      "execution_count": 33,
      "outputs": []
    },
    {
      "cell_type": "code",
      "metadata": {
        "id": "fQtxxzmWzMdY"
      },
      "source": [
        "X_train_tokenized = X_train.apply(word_tokenize)"
      ],
      "execution_count": 34,
      "outputs": []
    },
    {
      "cell_type": "code",
      "metadata": {
        "id": "Jxa-h_yVzMdc"
      },
      "source": [
        "sentences = X_train_tokenized.tolist()\n",
        "params = {'size': emb_len, 'window': 5, 'min_count': 2, 'sg': 1, 'hs': 0, 'negative': 10, 'workers': 32, 'seed': 34}"
      ],
      "execution_count": 35,
      "outputs": []
    },
    {
      "cell_type": "code",
      "metadata": {
        "id": "gZa6CicrzMdf",
        "outputId": "fc38eccd-da4b-4569-cb43-3cccf7733c05",
        "colab": {
          "base_uri": "https://localhost:8080/",
          "height": 51
        }
      },
      "source": [
        "%%time\n",
        "model_w2v = Word2Vec(**params)\n",
        "model_w2v.build_vocab(sentences)\n",
        "model_w2v.train(sentences,\n",
        "                total_examples=len(sentences),\n",
        "                epochs=20)"
      ],
      "execution_count": 36,
      "outputs": [
        {
          "output_type": "stream",
          "text": [
            "CPU times: user 20.1 s, sys: 138 ms, total: 20.3 s\n",
            "Wall time: 10.9 s\n"
          ],
          "name": "stdout"
        }
      ]
    },
    {
      "cell_type": "code",
      "metadata": {
        "id": "QDxng5bNzMdi"
      },
      "source": [
        "emb_zero = np.zeros((1, emb_len))\n",
        "embs = [emb_zero]\n",
        "for word in vocabulary:\n",
        "    if word in model_w2v:\n",
        "        emb = model_w2v[word].reshape((1, emb_len))\n",
        "    else:\n",
        "        emb = emb_zero\n",
        "    embs.append(emb)\n",
        "embs = np.concatenate(embs).astype(np.float32)"
      ],
      "execution_count": 37,
      "outputs": []
    },
    {
      "cell_type": "markdown",
      "metadata": {
        "id": "s08ZJQSHzMdm"
      },
      "source": [
        "### Обучение CNN с инициализацией эмбеддингами Word2Vec"
      ]
    },
    {
      "cell_type": "code",
      "metadata": {
        "id": "DXqkhgzCzMdm"
      },
      "source": [
        "embeddings_initializer = keras.initializers.Constant(embs)"
      ],
      "execution_count": 38,
      "outputs": []
    },
    {
      "cell_type": "code",
      "metadata": {
        "id": "LUpkZ9WLzMdq"
      },
      "source": [
        "model = Sequential()\n",
        "model.add(Embedding(input_dim=max_words, output_dim=emb_len, input_length=max_len,\n",
        "                    embeddings_initializer=embeddings_initializer))\n",
        "model.add(Conv1D(emb_len, 3))\n",
        "model.add(Activation(\"relu\"))\n",
        "model.add(GlobalMaxPool1D())\n",
        "model.add(Dense(10))\n",
        "model.add(Activation(\"relu\"))\n",
        "model.add(Dropout(0.5))\n",
        "model.add(Dense(1))\n",
        "model.add(Activation('sigmoid'))\n",
        "\n",
        "model.compile(loss='binary_crossentropy',\n",
        "              optimizer='adam',\n",
        "              metrics=['acc'])"
      ],
      "execution_count": 39,
      "outputs": []
    },
    {
      "cell_type": "code",
      "metadata": {
        "id": "-zWnKCH3zMdz",
        "outputId": "ec52bfb8-4961-4955-e598-5b82972ca34c",
        "colab": {
          "base_uri": "https://localhost:8080/",
          "height": 357
        }
      },
      "source": [
        "history2 = model.fit(X_train_sequenced, y_train,\n",
        "                     batch_size=10,\n",
        "                     epochs=10,\n",
        "                     verbose=1,\n",
        "                     validation_split=0.15)"
      ],
      "execution_count": 40,
      "outputs": [
        {
          "output_type": "stream",
          "text": [
            "Epoch 1/10\n",
            "1259/1259 [==============================] - 16s 13ms/step - loss: 0.3127 - acc: 0.8862 - val_loss: 0.1598 - val_acc: 0.9356\n",
            "Epoch 2/10\n",
            "1259/1259 [==============================] - 16s 12ms/step - loss: 0.2181 - acc: 0.9241 - val_loss: 0.1542 - val_acc: 0.9361\n",
            "Epoch 3/10\n",
            "1259/1259 [==============================] - 16s 12ms/step - loss: 0.1672 - acc: 0.9375 - val_loss: 0.1656 - val_acc: 0.9275\n",
            "Epoch 4/10\n",
            "1259/1259 [==============================] - 16s 12ms/step - loss: 0.1311 - acc: 0.9542 - val_loss: 0.1735 - val_acc: 0.9383\n",
            "Epoch 5/10\n",
            "1259/1259 [==============================] - 16s 13ms/step - loss: 0.0953 - acc: 0.9691 - val_loss: 0.2000 - val_acc: 0.9329\n",
            "Epoch 6/10\n",
            "1259/1259 [==============================] - 16s 12ms/step - loss: 0.0668 - acc: 0.9797 - val_loss: 0.2862 - val_acc: 0.9284\n",
            "Epoch 7/10\n",
            "1259/1259 [==============================] - 16s 13ms/step - loss: 0.0599 - acc: 0.9809 - val_loss: 0.2977 - val_acc: 0.9239\n",
            "Epoch 8/10\n",
            "1259/1259 [==============================] - 16s 13ms/step - loss: 0.0432 - acc: 0.9882 - val_loss: 0.3107 - val_acc: 0.9293\n",
            "Epoch 9/10\n",
            "1259/1259 [==============================] - 16s 12ms/step - loss: 0.0398 - acc: 0.9897 - val_loss: 0.3535 - val_acc: 0.9361\n",
            "Epoch 10/10\n",
            "1259/1259 [==============================] - 15s 12ms/step - loss: 0.0338 - acc: 0.9913 - val_loss: 0.4075 - val_acc: 0.9370\n"
          ],
          "name": "stdout"
        }
      ]
    },
    {
      "cell_type": "code",
      "metadata": {
        "id": "ZkfUmAS6zMd5",
        "outputId": "8a8cfcbb-66fd-4d00-f856-8da2a6a7dec0",
        "colab": {
          "base_uri": "https://localhost:8080/",
          "height": 34
        }
      },
      "source": [
        "loss, acc = model.evaluate(X_test_sequenced, y_test, batch_size=10, verbose=1)"
      ],
      "execution_count": 41,
      "outputs": [
        {
          "output_type": "stream",
          "text": [
            "494/494 [==============================] - 1s 2ms/step - loss: 0.5358 - acc: 0.9200\n"
          ],
          "name": "stdout"
        }
      ]
    },
    {
      "cell_type": "code",
      "metadata": {
        "id": "2XGA-eihzMeD",
        "outputId": "18500cd9-a876-4968-827c-b4d36945bc53",
        "colab": {
          "base_uri": "https://localhost:8080/",
          "height": 281
        }
      },
      "source": [
        "plt.plot(history1.history['val_acc'], label='Default Embeddings', c='darkred')\n",
        "plt.plot(history2.history['val_acc'], label='Word2Vec Embeddings', c='darkgreen')\n",
        "plt.title('Valid Accuracy in Learning History')\n",
        "plt.legend(loc='best')\n",
        "plt.grid(True)\n",
        "plt.show()"
      ],
      "execution_count": 42,
      "outputs": [
        {
          "output_type": "display_data",
          "data": {
            "image/png": "[encoded data removed]",
            "text/plain": [
              "<Figure size 432x288 with 1 Axes>"
            ]
          },
          "metadata": {
            "tags": [],
            "needs_background": "light"
          }
        }
      ]
    }
  ]
}