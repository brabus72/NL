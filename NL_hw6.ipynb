{
  "nbformat": 4,
  "nbformat_minor": 0,
  "metadata": {
    "kernelspec": {
      "display_name": "Python 3",
      "language": "python",
      "name": "python3"
    },
    "language_info": {
      "codemirror_mode": {
        "name": "ipython",
        "version": 3
      },
      "file_extension": ".py",
      "mimetype": "text/x-python",
      "name": "python",
      "nbconvert_exporter": "python",
      "pygments_lexer": "ipython3",
      "version": "3.7.7"
    },
    "colab": {
      "name": "NL_hw6.ipynb",
      "provenance": [],
      "collapsed_sections": []
    }
  },
  "cells": [
    {
      "cell_type": "markdown",
      "metadata": {
        "id": "8PO71IcHDP7H"
      },
      "source": [
        "## Домашняя работа №6"
      ]
    },
    {
      "cell_type": "markdown",
      "metadata": {
        "id": "L_V7pcZDDP7K"
      },
      "source": [
        "Провести сравнение RNN, LSTM, GRU на датасете отзывов (из предыдущих занятий/материалов)."
      ]
    },
    {
      "cell_type": "code",
      "metadata": {
        "id": "h5wpsAQFDP7L"
      },
      "source": [
        "import numpy as np\n",
        "import pandas as pd\n",
        "from tqdm import tqdm\n",
        "import matplotlib.pyplot as plt\n",
        "\n",
        "%matplotlib inline\n",
        "\n",
        "import warnings \n",
        "warnings.filterwarnings(\"ignore\", category=Warning)"
      ],
      "execution_count": 1,
      "outputs": []
    },
    {
      "cell_type": "markdown",
      "metadata": {
        "id": "0soLxn94DP7o"
      },
      "source": [
        "### Загрузка и обзор данных"
      ]
    },
    {
      "cell_type": "code",
      "metadata": {
        "id": "HAzGn4cuDP7p",
        "outputId": "e6d8fea8-f9a0-40c5-99e8-985a3daa4f2b",
        "colab": {
          "base_uri": "https://localhost:8080/",
          "height": 204
        }
      },
      "source": [
        "data = pd.read_excel(\"отзывы за лето.xls\")\n",
        "data.head()"
      ],
      "execution_count": 2,
      "outputs": [
        {
          "output_type": "execute_result",
          "data": {
            "text/html": [
              "<div>\n",
              "<style scoped>\n",
              "    .dataframe tbody tr th:only-of-type {\n",
              "        vertical-align: middle;\n",
              "    }\n",
              "\n",
              "    .dataframe tbody tr th {\n",
              "        vertical-align: top;\n",
              "    }\n",
              "\n",
              "    .dataframe thead th {\n",
              "        text-align: right;\n",
              "    }\n",
              "</style>\n",
              "<table border=\"1\" class=\"dataframe\">\n",
              "  <thead>\n",
              "    <tr style=\"text-align: right;\">\n",
              "      <th></th>\n",
              "      <th>Rating</th>\n",
              "      <th>Content</th>\n",
              "      <th>Date</th>\n",
              "    </tr>\n",
              "  </thead>\n",
              "  <tbody>\n",
              "    <tr>\n",
              "      <th>0</th>\n",
              "      <td>5</td>\n",
              "      <td>It just works!</td>\n",
              "      <td>2017-08-14</td>\n",
              "    </tr>\n",
              "    <tr>\n",
              "      <th>1</th>\n",
              "      <td>4</td>\n",
              "      <td>В целом удобноное приложение...из минусов хотя...</td>\n",
              "      <td>2017-08-14</td>\n",
              "    </tr>\n",
              "    <tr>\n",
              "      <th>2</th>\n",
              "      <td>5</td>\n",
              "      <td>Отлично все</td>\n",
              "      <td>2017-08-14</td>\n",
              "    </tr>\n",
              "    <tr>\n",
              "      <th>3</th>\n",
              "      <td>5</td>\n",
              "      <td>Стал зависать на 1% работы антивируса. Дальше ...</td>\n",
              "      <td>2017-08-14</td>\n",
              "    </tr>\n",
              "    <tr>\n",
              "      <th>4</th>\n",
              "      <td>5</td>\n",
              "      <td>Очень удобно, работает быстро.</td>\n",
              "      <td>2017-08-14</td>\n",
              "    </tr>\n",
              "  </tbody>\n",
              "</table>\n",
              "</div>"
            ],
            "text/plain": [
              "   Rating                                            Content        Date\n",
              "0       5                                     It just works!  2017-08-14\n",
              "1       4  В целом удобноное приложение...из минусов хотя...  2017-08-14\n",
              "2       5                                        Отлично все  2017-08-14\n",
              "3       5  Стал зависать на 1% работы антивируса. Дальше ...  2017-08-14\n",
              "4       5                     Очень удобно, работает быстро.  2017-08-14"
            ]
          },
          "metadata": {
            "tags": []
          },
          "execution_count": 2
        }
      ]
    },
    {
      "cell_type": "code",
      "metadata": {
        "id": "YMUb-vk9DP72",
        "outputId": "6290c00b-a9f7-4be0-e24c-a20b7989d9ce",
        "colab": {
          "base_uri": "https://localhost:8080/",
          "height": 119
        }
      },
      "source": [
        "data['Rating'].value_counts()"
      ],
      "execution_count": 3,
      "outputs": [
        {
          "output_type": "execute_result",
          "data": {
            "text/plain": [
              "5    14586\n",
              "1     2276\n",
              "4     2138\n",
              "3      911\n",
              "2      748\n",
              "Name: Rating, dtype: int64"
            ]
          },
          "metadata": {
            "tags": []
          },
          "execution_count": 3
        }
      ]
    },
    {
      "cell_type": "code",
      "metadata": {
        "id": "oLrfYrImDP79"
      },
      "source": [
        "data = data[data['Rating'] != 3]\n",
        "data['target'] = data['Rating'] > 3\n",
        "data['target'] = data['target'].astype(int)"
      ],
      "execution_count": 4,
      "outputs": []
    },
    {
      "cell_type": "markdown",
      "metadata": {
        "id": "wn4S2i7mDP8T"
      },
      "source": [
        "### Обработка текстов"
      ]
    },
    {
      "cell_type": "code",
      "metadata": {
        "id": "-tAUBFQwDP8W",
        "outputId": "9b342e49-b833-4880-f0ec-4bc63226f502",
        "colab": {
          "base_uri": "https://localhost:8080/",
          "height": 85
        }
      },
      "source": [
        "!pip install pymorphy2"
      ],
      "execution_count": 5,
      "outputs": [
        {
          "output_type": "stream",
          "text": [
            "Requirement already satisfied: pymorphy2 in /usr/local/lib/python3.6/dist-packages (0.9.1)\n",
            "Requirement already satisfied: dawg-python>=0.7.1 in /usr/local/lib/python3.6/dist-packages (from pymorphy2) (0.7.2)\n",
            "Requirement already satisfied: docopt>=0.6 in /usr/local/lib/python3.6/dist-packages (from pymorphy2) (0.6.2)\n",
            "Requirement already satisfied: pymorphy2-dicts-ru<3.0,>=2.4 in /usr/local/lib/python3.6/dist-packages (from pymorphy2) (2.4.417127.4579844)\n"
          ],
          "name": "stdout"
        }
      ]
    },
    {
      "cell_type": "code",
      "metadata": {
        "id": "HICY4pDSDP8m"
      },
      "source": [
        "import nltk\n",
        "from nltk.tokenize import word_tokenize\n",
        "\n",
        "from pymorphy2 import MorphAnalyzer"
      ],
      "execution_count": 6,
      "outputs": []
    },
    {
      "cell_type": "code",
      "metadata": {
        "id": "OvOPGNe8DrfZ",
        "outputId": "c4cf07f4-9e95-4daa-feb8-146b16647549",
        "colab": {
          "base_uri": "https://localhost:8080/",
          "height": 68
        }
      },
      "source": [
        "nltk.download('punkt')"
      ],
      "execution_count": 7,
      "outputs": [
        {
          "output_type": "stream",
          "text": [
            "[nltk_data] Downloading package punkt to /root/nltk_data...\n",
            "[nltk_data]   Unzipping tokenizers/punkt.zip.\n"
          ],
          "name": "stdout"
        },
        {
          "output_type": "execute_result",
          "data": {
            "text/plain": [
              "True"
            ]
          },
          "metadata": {
            "tags": []
          },
          "execution_count": 7
        }
      ]
    },
    {
      "cell_type": "code",
      "metadata": {
        "id": "SZOiar1mDP8t"
      },
      "source": [
        "punctuation = r'[,.]'\n",
        "morpher = MorphAnalyzer()\n",
        "\n",
        "stop = {'без', 'безо', 'близ', 'в', 'во', 'вместо', 'вне',\n",
        "        'для', 'до', 'за', 'из', 'изо', 'из-за', 'из-под', \n",
        "        'к', 'ко', 'кроме', 'между', 'меж', 'на', 'над', 'надо',\n",
        "        'о', 'об', 'обо', 'от', 'ото', 'перед', 'передо', 'пред', 'предо',\n",
        "        'пo', 'под', 'подо', 'при', 'про', 'ради', 'с', 'со',\n",
        "        'сквозь', 'среди', 'у', 'через', 'чрез'}"
      ],
      "execution_count": 8,
      "outputs": []
    },
    {
      "cell_type": "code",
      "metadata": {
        "id": "FN7rsU8IDP8-"
      },
      "source": [
        "def normalize_text(text_list):\n",
        "    return [morpher.parse(word)[0].normal_form \\\n",
        "            for word in text_list if word not in stop]\n",
        "\n",
        "def preprocess_text(text):    \n",
        "    text_list = nltk.word_tokenize(str(text))\n",
        "    text_list = normalize_text(text_list)\n",
        "    return text_list"
      ],
      "execution_count": 9,
      "outputs": []
    },
    {
      "cell_type": "code",
      "metadata": {
        "id": "xmfTTT-8DP9H",
        "outputId": "c0155194-9946-49a7-f9ad-ddb453608f5d",
        "colab": {
          "base_uri": "https://localhost:8080/",
          "height": 34
        }
      },
      "source": [
        "data['Text'] = data['Content'].str.lower()\n",
        "data['Text'] = data['Text'].str.replace(r'[.,]', ' ')\n",
        "data['Text'] = [preprocess_text(text_list) for text_list in tqdm(data['Text'])]"
      ],
      "execution_count": 10,
      "outputs": [
        {
          "output_type": "stream",
          "text": [
            "100%|██████████| 19748/19748 [00:32<00:00, 601.73it/s]\n"
          ],
          "name": "stderr"
        }
      ]
    },
    {
      "cell_type": "code",
      "metadata": {
        "id": "55UV_JYNDP9M",
        "outputId": "4ebe2a7f-3ad6-4ac9-c6b4-e758e3e43c8a",
        "colab": {
          "base_uri": "https://localhost:8080/",
          "height": 359
        }
      },
      "source": [
        "data['Text'] = data['Text'].str.join(' ')\n",
        "data.head(10)"
      ],
      "execution_count": 11,
      "outputs": [
        {
          "output_type": "execute_result",
          "data": {
            "text/html": [
              "<div>\n",
              "<style scoped>\n",
              "    .dataframe tbody tr th:only-of-type {\n",
              "        vertical-align: middle;\n",
              "    }\n",
              "\n",
              "    .dataframe tbody tr th {\n",
              "        vertical-align: top;\n",
              "    }\n",
              "\n",
              "    .dataframe thead th {\n",
              "        text-align: right;\n",
              "    }\n",
              "</style>\n",
              "<table border=\"1\" class=\"dataframe\">\n",
              "  <thead>\n",
              "    <tr style=\"text-align: right;\">\n",
              "      <th></th>\n",
              "      <th>Rating</th>\n",
              "      <th>Content</th>\n",
              "      <th>Date</th>\n",
              "      <th>target</th>\n",
              "      <th>Text</th>\n",
              "    </tr>\n",
              "  </thead>\n",
              "  <tbody>\n",
              "    <tr>\n",
              "      <th>0</th>\n",
              "      <td>5</td>\n",
              "      <td>It just works!</td>\n",
              "      <td>2017-08-14</td>\n",
              "      <td>1</td>\n",
              "      <td>it just works !</td>\n",
              "    </tr>\n",
              "    <tr>\n",
              "      <th>1</th>\n",
              "      <td>4</td>\n",
              "      <td>В целом удобноное приложение...из минусов хотя...</td>\n",
              "      <td>2017-08-14</td>\n",
              "      <td>1</td>\n",
              "      <td>целое удобноной приложение минус хотеть слишко...</td>\n",
              "    </tr>\n",
              "    <tr>\n",
              "      <th>2</th>\n",
              "      <td>5</td>\n",
              "      <td>Отлично все</td>\n",
              "      <td>2017-08-14</td>\n",
              "      <td>1</td>\n",
              "      <td>отлично всё</td>\n",
              "    </tr>\n",
              "    <tr>\n",
              "      <th>3</th>\n",
              "      <td>5</td>\n",
              "      <td>Стал зависать на 1% работы антивируса. Дальше ...</td>\n",
              "      <td>2017-08-14</td>\n",
              "      <td>1</td>\n",
              "      <td>стать зависать 1 % работа антивирус далёкий ни...</td>\n",
              "    </tr>\n",
              "    <tr>\n",
              "      <th>4</th>\n",
              "      <td>5</td>\n",
              "      <td>Очень удобно, работает быстро.</td>\n",
              "      <td>2017-08-14</td>\n",
              "      <td>1</td>\n",
              "      <td>очень удобно работать быстро</td>\n",
              "    </tr>\n",
              "    <tr>\n",
              "      <th>5</th>\n",
              "      <td>5</td>\n",
              "      <td>Всё удобно норм 👍👍👍</td>\n",
              "      <td>2017-08-14</td>\n",
              "      <td>1</td>\n",
              "      <td>всё удобно норма 👍👍👍</td>\n",
              "    </tr>\n",
              "    <tr>\n",
              "      <th>6</th>\n",
              "      <td>5</td>\n",
              "      <td>Очень удобное приложение.</td>\n",
              "      <td>2017-08-14</td>\n",
              "      <td>1</td>\n",
              "      <td>очень удобный приложение</td>\n",
              "    </tr>\n",
              "    <tr>\n",
              "      <th>7</th>\n",
              "      <td>5</td>\n",
              "      <td>Все устраивает</td>\n",
              "      <td>2017-08-14</td>\n",
              "      <td>1</td>\n",
              "      <td>всё устраивать</td>\n",
              "    </tr>\n",
              "    <tr>\n",
              "      <th>8</th>\n",
              "      <td>5</td>\n",
              "      <td>У меня работает все четко. В отличии от банком...</td>\n",
              "      <td>2017-08-14</td>\n",
              "      <td>1</td>\n",
              "      <td>я работать всё чётко отличие банкомат который ...</td>\n",
              "    </tr>\n",
              "    <tr>\n",
              "      <th>9</th>\n",
              "      <td>5</td>\n",
              "      <td>Очень все хорошо👍</td>\n",
              "      <td>2017-08-14</td>\n",
              "      <td>1</td>\n",
              "      <td>очень всё хорошо👍</td>\n",
              "    </tr>\n",
              "  </tbody>\n",
              "</table>\n",
              "</div>"
            ],
            "text/plain": [
              "   Rating  ...                                               Text\n",
              "0       5  ...                                    it just works !\n",
              "1       4  ...  целое удобноной приложение минус хотеть слишко...\n",
              "2       5  ...                                        отлично всё\n",
              "3       5  ...  стать зависать 1 % работа антивирус далёкий ни...\n",
              "4       5  ...                       очень удобно работать быстро\n",
              "5       5  ...                               всё удобно норма 👍👍👍\n",
              "6       5  ...                           очень удобный приложение\n",
              "7       5  ...                                     всё устраивать\n",
              "8       5  ...  я работать всё чётко отличие банкомат который ...\n",
              "9       5  ...                                  очень всё хорошо👍\n",
              "\n",
              "[10 rows x 5 columns]"
            ]
          },
          "metadata": {
            "tags": []
          },
          "execution_count": 11
        }
      ]
    },
    {
      "cell_type": "code",
      "metadata": {
        "id": "o8MjIet6DP-t"
      },
      "source": [
        "from sklearn.model_selection import train_test_split"
      ],
      "execution_count": 12,
      "outputs": []
    },
    {
      "cell_type": "code",
      "metadata": {
        "id": "pUbmPh85DP-x"
      },
      "source": [
        "X = data['Text']\n",
        "y = data['target']"
      ],
      "execution_count": 13,
      "outputs": []
    },
    {
      "cell_type": "code",
      "metadata": {
        "id": "gHF6w3kbDP-9"
      },
      "source": [
        "X_train, X_test, y_train, y_test = train_test_split(\n",
        "    X, y,\n",
        "    test_size=0.25,\n",
        "    random_state=42,\n",
        "    stratify=y\n",
        ")"
      ],
      "execution_count": 14,
      "outputs": []
    },
    {
      "cell_type": "code",
      "metadata": {
        "id": "TmtldY1kDP_I"
      },
      "source": [
        "import keras\n",
        "from keras.models import Sequential, Model\n",
        "from keras.layers import Dense, Dropout, Activation, Embedding, SimpleRNN, LSTM, GRU, Masking\n",
        "from keras.preprocessing.text import Tokenizer\n",
        "from keras.preprocessing.sequence import pad_sequences"
      ],
      "execution_count": 15,
      "outputs": []
    },
    {
      "cell_type": "code",
      "metadata": {
        "id": "pkfcMF3iDP_M"
      },
      "source": [
        "train_corpus = X_train.values\n",
        "test_corpus = X_test.values"
      ],
      "execution_count": 16,
      "outputs": []
    },
    {
      "cell_type": "code",
      "metadata": {
        "id": "bQmZlwpsDP_P"
      },
      "source": [
        "tokenizer = Tokenizer(num_words=None, \n",
        "                      filters='#$%&()*+-<=>@[\\\\]^_`{|}~\\t\\n',\n",
        "                      lower = False, split = ' ')\n",
        "tokenizer.fit_on_texts(train_corpus)\n",
        "\n",
        "sequences_train = tokenizer.texts_to_sequences(train_corpus)\n",
        "sequences_test = tokenizer.texts_to_sequences(test_corpus)\n",
        "\n",
        "word_count = len(tokenizer.index_word) + 1\n",
        "training_length = max([len(i.split()) for i in train_corpus])\n",
        "\n",
        "X_train_sequanced = pad_sequences(sequences_train, maxlen=training_length)\n",
        "X_test_sequanced = pad_sequences(sequences_test, maxlen=training_length)"
      ],
      "execution_count": 17,
      "outputs": []
    },
    {
      "cell_type": "markdown",
      "metadata": {
        "id": "xdsRDac_DP_T"
      },
      "source": [
        "### Обучение RNN"
      ]
    },
    {
      "cell_type": "code",
      "metadata": {
        "id": "KVqkxS4VDP_U"
      },
      "source": [
        "model1 = Sequential()\n",
        "model1.add(\n",
        "    Embedding(input_dim=word_count,\n",
        "              input_length=training_length,\n",
        "              output_dim=30,\n",
        "              trainable=True,\n",
        "              mask_zero=True))\n",
        "model1.add(Masking(mask_value=0.0))\n",
        "model1.add(SimpleRNN(64))\n",
        "model1.add(Dense(64, activation='relu'))\n",
        "model1.add(Dropout(0.5))\n",
        "model1.add(Dense(1, activation='sigmoid'))\n",
        "\n",
        "model1.compile(optimizer='adam',\n",
        "               loss='binary_crossentropy',\n",
        "               metrics=['accuracy'])"
      ],
      "execution_count": 18,
      "outputs": []
    },
    {
      "cell_type": "code",
      "metadata": {
        "id": "6Am2qsvRDP_Y",
        "outputId": "ebc60317-5d76-4716-9d9b-bbdd6d7c3e60",
        "colab": {
          "base_uri": "https://localhost:8080/",
          "height": 357
        }
      },
      "source": [
        "history1 = model1.fit(X_train_sequanced, y_train,\n",
        "                      batch_size=10,\n",
        "                      epochs=10,\n",
        "                      verbose=1,\n",
        "                      validation_split=0.1)"
      ],
      "execution_count": 19,
      "outputs": [
        {
          "output_type": "stream",
          "text": [
            "Epoch 1/10\n",
            "1333/1333 [==============================] - 60s 45ms/step - loss: 0.2352 - accuracy: 0.9010 - val_loss: 0.2302 - val_accuracy: 0.8995\n",
            "Epoch 2/10\n",
            "1333/1333 [==============================] - 61s 45ms/step - loss: 0.1636 - accuracy: 0.9344 - val_loss: 0.2254 - val_accuracy: 0.9123\n",
            "Epoch 3/10\n",
            "1333/1333 [==============================] - 62s 46ms/step - loss: 0.1304 - accuracy: 0.9499 - val_loss: 0.2614 - val_accuracy: 0.9096\n",
            "Epoch 4/10\n",
            "1333/1333 [==============================] - 61s 46ms/step - loss: 0.1026 - accuracy: 0.9612 - val_loss: 0.2681 - val_accuracy: 0.9184\n",
            "Epoch 5/10\n",
            "1333/1333 [==============================] - 65s 49ms/step - loss: 0.0844 - accuracy: 0.9697 - val_loss: 0.2633 - val_accuracy: 0.9130\n",
            "Epoch 6/10\n",
            "1333/1333 [==============================] - 64s 48ms/step - loss: 0.0879 - accuracy: 0.9698 - val_loss: 0.2926 - val_accuracy: 0.9150\n",
            "Epoch 7/10\n",
            "1333/1333 [==============================] - 62s 46ms/step - loss: 0.0648 - accuracy: 0.9775 - val_loss: 0.3223 - val_accuracy: 0.9109\n",
            "Epoch 8/10\n",
            "1333/1333 [==============================] - 62s 46ms/step - loss: 0.0561 - accuracy: 0.9812 - val_loss: 0.3080 - val_accuracy: 0.9069\n",
            "Epoch 9/10\n",
            "1333/1333 [==============================] - 61s 46ms/step - loss: 0.0539 - accuracy: 0.9820 - val_loss: 0.3626 - val_accuracy: 0.9035\n",
            "Epoch 10/10\n",
            "1333/1333 [==============================] - 61s 46ms/step - loss: 0.0475 - accuracy: 0.9849 - val_loss: 0.2957 - val_accuracy: 0.8988\n"
          ],
          "name": "stdout"
        }
      ]
    },
    {
      "cell_type": "code",
      "metadata": {
        "id": "HIvtqdE2DP_d",
        "outputId": "1b2f234c-8055-4ba7-f8a7-ffa94bd1b4ba",
        "colab": {
          "base_uri": "https://localhost:8080/",
          "height": 34
        }
      },
      "source": [
        "loss, acc = model1.evaluate(X_test_sequanced, y_test, batch_size=10, verbose=1)"
      ],
      "execution_count": 20,
      "outputs": [
        {
          "output_type": "stream",
          "text": [
            "494/494 [==============================] - 5s 10ms/step - loss: 0.2781 - accuracy: 0.8997\n"
          ],
          "name": "stdout"
        }
      ]
    },
    {
      "cell_type": "markdown",
      "metadata": {
        "id": "CJxsJ-PbDP_h"
      },
      "source": [
        "### Обучение LSTM"
      ]
    },
    {
      "cell_type": "code",
      "metadata": {
        "id": "BJjkOzGkDP_h"
      },
      "source": [
        "model2 = Sequential()\n",
        "model2.add(\n",
        "    Embedding(input_dim=word_count,\n",
        "              input_length=training_length,\n",
        "              output_dim=30,\n",
        "              trainable=True,\n",
        "              mask_zero=True))\n",
        "model2.add(Masking(mask_value=0.0))\n",
        "model2.add(LSTM(64, recurrent_dropout=0.2))\n",
        "model2.add(Dense(64, activation='relu'))\n",
        "model2.add(Dropout(0.5))\n",
        "model2.add(Dense(1, activation='sigmoid'))\n",
        "\n",
        "model2.compile(optimizer='adam',\n",
        "               loss='binary_crossentropy',\n",
        "               metrics=['accuracy'])"
      ],
      "execution_count": 21,
      "outputs": []
    },
    {
      "cell_type": "code",
      "metadata": {
        "id": "RN-rpQMADP_l",
        "outputId": "49fa0c57-a884-46c5-95c6-ad25c9f526a0",
        "colab": {
          "base_uri": "https://localhost:8080/",
          "height": 357
        }
      },
      "source": [
        "history2 = model2.fit(X_train_sequanced, y_train,\n",
        "                      batch_size=10,\n",
        "                      epochs=10,\n",
        "                      verbose=1,\n",
        "                      validation_split=0.1)"
      ],
      "execution_count": 22,
      "outputs": [
        {
          "output_type": "stream",
          "text": [
            "Epoch 1/10\n",
            "1333/1333 [==============================] - 222s 167ms/step - loss: 0.2193 - accuracy: 0.9100 - val_loss: 0.2020 - val_accuracy: 0.9082\n",
            "Epoch 2/10\n",
            "1333/1333 [==============================] - 229s 171ms/step - loss: 0.1341 - accuracy: 0.9486 - val_loss: 0.2191 - val_accuracy: 0.9211\n",
            "Epoch 3/10\n",
            "1333/1333 [==============================] - 225s 169ms/step - loss: 0.0977 - accuracy: 0.9639 - val_loss: 0.2033 - val_accuracy: 0.9197\n",
            "Epoch 4/10\n",
            "1333/1333 [==============================] - 226s 169ms/step - loss: 0.0751 - accuracy: 0.9746 - val_loss: 0.2507 - val_accuracy: 0.9136\n",
            "Epoch 5/10\n",
            "1333/1333 [==============================] - 226s 169ms/step - loss: 0.0588 - accuracy: 0.9809 - val_loss: 0.2568 - val_accuracy: 0.9150\n",
            "Epoch 6/10\n",
            "1333/1333 [==============================] - 225s 169ms/step - loss: 0.0458 - accuracy: 0.9850 - val_loss: 0.3518 - val_accuracy: 0.9062\n",
            "Epoch 7/10\n",
            "1333/1333 [==============================] - 224s 168ms/step - loss: 0.0419 - accuracy: 0.9858 - val_loss: 0.2904 - val_accuracy: 0.9177\n",
            "Epoch 8/10\n",
            "1333/1333 [==============================] - 225s 169ms/step - loss: 0.0346 - accuracy: 0.9872 - val_loss: 0.3480 - val_accuracy: 0.9163\n",
            "Epoch 9/10\n",
            "1333/1333 [==============================] - 223s 167ms/step - loss: 0.0293 - accuracy: 0.9901 - val_loss: 0.3648 - val_accuracy: 0.9116\n",
            "Epoch 10/10\n",
            "1333/1333 [==============================] - 222s 167ms/step - loss: 0.0222 - accuracy: 0.9920 - val_loss: 0.5198 - val_accuracy: 0.9123\n"
          ],
          "name": "stdout"
        }
      ]
    },
    {
      "cell_type": "code",
      "metadata": {
        "id": "7C8fD9Z9DP_p",
        "outputId": "afeef40a-6ad1-4550-a06f-2415c07d6a76",
        "colab": {
          "base_uri": "https://localhost:8080/",
          "height": 34
        }
      },
      "source": [
        "loss, acc = model2.evaluate(X_test_sequanced, y_test, batch_size=10, verbose=1)"
      ],
      "execution_count": 23,
      "outputs": [
        {
          "output_type": "stream",
          "text": [
            "494/494 [==============================] - 11s 21ms/step - loss: 0.5043 - accuracy: 0.9135\n"
          ],
          "name": "stdout"
        }
      ]
    },
    {
      "cell_type": "markdown",
      "metadata": {
        "id": "Y8aftExGDP_v"
      },
      "source": [
        "### Обучение GRU"
      ]
    },
    {
      "cell_type": "code",
      "metadata": {
        "id": "_rx-rdprDP_w"
      },
      "source": [
        "model3 = Sequential()\n",
        "model3.add(\n",
        "    Embedding(input_dim=word_count,\n",
        "              input_length=training_length,\n",
        "              output_dim=30,\n",
        "              trainable=True,\n",
        "              mask_zero=True))\n",
        "model3.add(Masking(mask_value=0.0))\n",
        "model3.add(GRU(64, recurrent_dropout=0.2))\n",
        "model3.add(Dense(64, activation='relu'))\n",
        "model3.add(Dropout(0.5))\n",
        "model3.add(Dense(1, activation='sigmoid'))\n",
        "\n",
        "model3.compile(optimizer='adam',\n",
        "               loss='binary_crossentropy',\n",
        "               metrics=['accuracy'])"
      ],
      "execution_count": 24,
      "outputs": []
    },
    {
      "cell_type": "code",
      "metadata": {
        "id": "A1gP5CR7DP_1",
        "outputId": "956a9d81-43a0-4e47-b391-ae97269dad10",
        "colab": {
          "base_uri": "https://localhost:8080/",
          "height": 357
        }
      },
      "source": [
        "history3 = model3.fit(X_train_sequanced, y_train,\n",
        "                      batch_size=10,\n",
        "                      epochs=10,\n",
        "                      verbose=1,\n",
        "                      validation_split=0.1)"
      ],
      "execution_count": 25,
      "outputs": [
        {
          "output_type": "stream",
          "text": [
            "Epoch 1/10\n",
            "1333/1333 [==============================] - 192s 144ms/step - loss: 0.2204 - accuracy: 0.9054 - val_loss: 0.2079 - val_accuracy: 0.9150\n",
            "Epoch 2/10\n",
            "1333/1333 [==============================] - 191s 143ms/step - loss: 0.1327 - accuracy: 0.9494 - val_loss: 0.1838 - val_accuracy: 0.9211\n",
            "Epoch 3/10\n",
            "1333/1333 [==============================] - 191s 143ms/step - loss: 0.0935 - accuracy: 0.9636 - val_loss: 0.2700 - val_accuracy: 0.9177\n",
            "Epoch 4/10\n",
            "1333/1333 [==============================] - 194s 145ms/step - loss: 0.0718 - accuracy: 0.9759 - val_loss: 0.2199 - val_accuracy: 0.9238\n",
            "Epoch 5/10\n",
            "1333/1333 [==============================] - 196s 147ms/step - loss: 0.0554 - accuracy: 0.9808 - val_loss: 0.2495 - val_accuracy: 0.9116\n",
            "Epoch 6/10\n",
            "1333/1333 [==============================] - 210s 158ms/step - loss: 0.0431 - accuracy: 0.9861 - val_loss: 0.3096 - val_accuracy: 0.9170\n",
            "Epoch 7/10\n",
            "1333/1333 [==============================] - 205s 154ms/step - loss: 0.0358 - accuracy: 0.9874 - val_loss: 0.3481 - val_accuracy: 0.9082\n",
            "Epoch 8/10\n",
            "1333/1333 [==============================] - 206s 154ms/step - loss: 0.0298 - accuracy: 0.9892 - val_loss: 0.4093 - val_accuracy: 0.9015\n",
            "Epoch 9/10\n",
            "1333/1333 [==============================] - 200s 150ms/step - loss: 0.0264 - accuracy: 0.9907 - val_loss: 0.3905 - val_accuracy: 0.9116\n",
            "Epoch 10/10\n",
            "1333/1333 [==============================] - 197s 148ms/step - loss: 0.0195 - accuracy: 0.9932 - val_loss: 0.4890 - val_accuracy: 0.9055\n"
          ],
          "name": "stdout"
        }
      ]
    },
    {
      "cell_type": "code",
      "metadata": {
        "id": "rGfkDL5qDP_7",
        "outputId": "73d0d6ae-ba8b-4d46-c6b5-730548715727",
        "colab": {
          "base_uri": "https://localhost:8080/",
          "height": 34
        }
      },
      "source": [
        "loss, acc = model3.evaluate(X_test_sequanced, y_test, batch_size=10, verbose=1)"
      ],
      "execution_count": 26,
      "outputs": [
        {
          "output_type": "stream",
          "text": [
            "494/494 [==============================] - 10s 20ms/step - loss: 0.4670 - accuracy: 0.9149\n"
          ],
          "name": "stdout"
        }
      ]
    },
    {
      "cell_type": "markdown",
      "metadata": {
        "id": "SshlLwBGDP__"
      },
      "source": [
        "### Визуализация"
      ]
    },
    {
      "cell_type": "code",
      "metadata": {
        "id": "0upE9UcaDQAA",
        "outputId": "250d593b-cd70-4088-b28a-2074b60dc8ef",
        "colab": {
          "base_uri": "https://localhost:8080/",
          "height": 281
        }
      },
      "source": [
        "plt.plot(history1.history['val_accuracy'], label='RNN', c='darkred')\n",
        "plt.plot(history2.history['val_accuracy'], label='LSTM', c='darkgreen')\n",
        "plt.plot(history3.history['val_accuracy'], label='GRU', c='darkblue')\n",
        "plt.title('Valid Accuracy in Learning History')\n",
        "plt.legend(loc='best')\n",
        "plt.grid(True)\n",
        "plt.show()"
      ],
      "execution_count": 27,
      "outputs": [
        {
          "output_type": "display_data",
          "data": {
            "image/png": "[encoded data removed]",
            "text/plain": [
              "<Figure size 432x288 with 1 Axes>"
            ]
          },
          "metadata": {
            "tags": [],
            "needs_background": "light"
          }
        }
      ]
    }
  ]
}